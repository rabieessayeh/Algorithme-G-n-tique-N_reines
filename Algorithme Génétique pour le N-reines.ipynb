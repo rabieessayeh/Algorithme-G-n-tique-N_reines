{
 "cells": [
  {
   "cell_type": "code",
   "execution_count": 1,
   "id": "7aa0c83a",
   "metadata": {},
   "outputs": [],
   "source": [
    "import random\n",
    "from colorama import Fore, Style"
   ]
  },
  {
   "cell_type": "code",
   "execution_count": 2,
   "id": "a6a8feb1",
   "metadata": {},
   "outputs": [],
   "source": [
    "def generate_individual(N):\n",
    "    return random.sample(range(N), N)"
   ]
  },
  {
   "cell_type": "code",
   "execution_count": 3,
   "id": "d74243d6",
   "metadata": {},
   "outputs": [],
   "source": [
    "def attacking_pair(individual):\n",
    "    \n",
    "    size = len(individual)\n",
    "    attacking_pairs = []\n",
    "\n",
    "    for i in range(size - 1):\n",
    "        for j in range(i + 1, size):\n",
    "            if individual[i] == individual[j] or abs(i - j) == abs(individual[i] - individual[j]):\n",
    "                attacking_pairs.append((individual[i], i))\n",
    "                attacking_pairs.append((individual[j], j))\n",
    "\n",
    "    return attacking_pairs"
   ]
  },
  {
   "cell_type": "code",
   "execution_count": 4,
   "id": "9200689e",
   "metadata": {},
   "outputs": [],
   "source": [
    "def afficher(individual):\n",
    "\n",
    "    size = len(individual)\n",
    "    attacking_pairs = attacking_pair(individual)\n",
    "\n",
    "    for row in range(size):\n",
    "        line = \"|\"\n",
    "        for col in range(size):\n",
    "            if col == individual[row]:\n",
    "                \n",
    "                #pour colorer les paires en attaques\n",
    "                if (col, row) in attacking_pairs :\n",
    "                    line += f\" {Fore.RED}Q{Style.RESET_ALL} |\"  \n",
    "                else:\n",
    "                    line += \" Q |\"\n",
    "                    \n",
    "            else:\n",
    "                line += \"   |\"\n",
    "        print(\"-\" * (size * 4 + 1))\n",
    "        print(line)\n",
    "    print(\"-\" * (size * 4 + 1))"
   ]
  },
  {
   "cell_type": "code",
   "execution_count": 5,
   "id": "0f693871",
   "metadata": {},
   "outputs": [],
   "source": [
    "def fitness(individual):\n",
    "    clashes = 0\n",
    "    for i in range(len(individual) -1):\n",
    "        for j in range(i + 1, len(individual)):\n",
    "            if abs(i - j) == abs(individual[i] - individual[j]):\n",
    "                clashes += 1\n",
    "    return clashes"
   ]
  },
  {
   "cell_type": "code",
   "execution_count": 6,
   "id": "62695381",
   "metadata": {},
   "outputs": [],
   "source": [
    "def crossover(parent1, parent2):\n",
    "    crossover_point = random.randint(1, len(parent1) -2)\n",
    "    child = parent1[:crossover_point] + [gene for gene in parent2 if gene not in parent1[:crossover_point]]\n",
    "    return child"
   ]
  },
  {
   "cell_type": "code",
   "execution_count": 7,
   "id": "2d883f11",
   "metadata": {},
   "outputs": [],
   "source": [
    "def mutate(individual):\n",
    "    mutation_point1, mutation_point2 = random.sample(range(len(individual)), 2)\n",
    "    individual[mutation_point1], individual[mutation_point2] = individual[mutation_point2], individual[mutation_point1]\n",
    "    return individual"
   ]
  },
  {
   "cell_type": "code",
   "execution_count": 8,
   "id": "710a9e21",
   "metadata": {},
   "outputs": [],
   "source": [
    "def genetic_algorithm(N_Raine = 8, population_size = 100, generations = 1000):\n",
    "\n",
    "    #initialisation\n",
    "    population = [generate_individual(N_Raine) for _ in range(population_size)]\n",
    "\n",
    "    for generation in range(generations):\n",
    "        \n",
    "        #evaluation\n",
    "        population = sorted(population, key=lambda ind: fitness(ind))\n",
    "        new_population = []\n",
    "\n",
    "        for i in range(0, population_size, 2):\n",
    "\n",
    "            parent1, parent2 = population[i], population[i + 1]\n",
    "            # Croisement\n",
    "            child1 = crossover(parent1, parent2)\n",
    "            child2 = crossover(parent2, parent1)\n",
    "            #mutation\n",
    "            child1 = mutate(child1)\n",
    "            child2 = mutate(child2)\n",
    "            new_population.extend([child1, child2])\n",
    "\n",
    "        population = new_population\n",
    "\n",
    "    return min(population, key=lambda ind: fitness(ind))"
   ]
  },
  {
   "cell_type": "code",
   "execution_count": 28,
   "id": "7247d048",
   "metadata": {},
   "outputs": [
    {
     "name": "stdout",
     "output_type": "stream",
     "text": [
      "Solution :  [3, 8, 2, 10, 15, 6, 12, 5, 0, 4, 7, 13, 11, 1, 14, 9]\n",
      "Le nombre des couples qui s'attaque :  4\n",
      "Indices des couples : \n",
      "(8, 1) avec (10, 3) \t (2, 2) avec (14, 14) \t (10, 3) avec (4, 9) \t (13, 11) avec (9, 15) \t "
     ]
    }
   ],
   "source": [
    "best_solution = genetic_algorithm(N_Raine=16)\n",
    "print('Solution : ', best_solution)\n",
    "print('Le nombre des couples qui s\\'attaque : ', fitness(best_solution))\n",
    "print('Indices des couples : ')\n",
    "ap = attacking_pair(best_solution)\n",
    "\n",
    "for i in range(0, len(ap), 2):\n",
    "    print(ap[i], 'avec', ap[i+1], end = ' \\t ')"
   ]
  },
  {
   "cell_type": "code",
   "execution_count": 29,
   "id": "7098312f",
   "metadata": {},
   "outputs": [
    {
     "name": "stdout",
     "output_type": "stream",
     "text": [
      "\n",
      "\n",
      "-----------------------------------------------------------------\n",
      "|   |   |   | Q |   |   |   |   |   |   |   |   |   |   |   |   |\n",
      "-----------------------------------------------------------------\n",
      "|   |   |   |   |   |   |   |   | \u001b[31mQ\u001b[0m |   |   |   |   |   |   |   |\n",
      "-----------------------------------------------------------------\n",
      "|   |   | \u001b[31mQ\u001b[0m |   |   |   |   |   |   |   |   |   |   |   |   |   |\n",
      "-----------------------------------------------------------------\n",
      "|   |   |   |   |   |   |   |   |   |   | \u001b[31mQ\u001b[0m |   |   |   |   |   |\n",
      "-----------------------------------------------------------------\n",
      "|   |   |   |   |   |   |   |   |   |   |   |   |   |   |   | Q |\n",
      "-----------------------------------------------------------------\n",
      "|   |   |   |   |   |   | Q |   |   |   |   |   |   |   |   |   |\n",
      "-----------------------------------------------------------------\n",
      "|   |   |   |   |   |   |   |   |   |   |   |   | Q |   |   |   |\n",
      "-----------------------------------------------------------------\n",
      "|   |   |   |   |   | Q |   |   |   |   |   |   |   |   |   |   |\n",
      "-----------------------------------------------------------------\n",
      "| Q |   |   |   |   |   |   |   |   |   |   |   |   |   |   |   |\n",
      "-----------------------------------------------------------------\n",
      "|   |   |   |   | \u001b[31mQ\u001b[0m |   |   |   |   |   |   |   |   |   |   |   |\n",
      "-----------------------------------------------------------------\n",
      "|   |   |   |   |   |   |   | Q |   |   |   |   |   |   |   |   |\n",
      "-----------------------------------------------------------------\n",
      "|   |   |   |   |   |   |   |   |   |   |   |   |   | \u001b[31mQ\u001b[0m |   |   |\n",
      "-----------------------------------------------------------------\n",
      "|   |   |   |   |   |   |   |   |   |   |   | Q |   |   |   |   |\n",
      "-----------------------------------------------------------------\n",
      "|   | Q |   |   |   |   |   |   |   |   |   |   |   |   |   |   |\n",
      "-----------------------------------------------------------------\n",
      "|   |   |   |   |   |   |   |   |   |   |   |   |   |   | \u001b[31mQ\u001b[0m |   |\n",
      "-----------------------------------------------------------------\n",
      "|   |   |   |   |   |   |   |   |   | \u001b[31mQ\u001b[0m |   |   |   |   |   |   |\n",
      "-----------------------------------------------------------------\n"
     ]
    }
   ],
   "source": [
    "print('\\n')\n",
    "afficher(best_solution)"
   ]
  }
 ],
 "metadata": {
  "kernelspec": {
   "display_name": "Python 3 (ipykernel)",
   "language": "python",
   "name": "python3"
  },
  "language_info": {
   "codemirror_mode": {
    "name": "ipython",
    "version": 3
   },
   "file_extension": ".py",
   "mimetype": "text/x-python",
   "name": "python",
   "nbconvert_exporter": "python",
   "pygments_lexer": "ipython3",
   "version": "3.11.5"
  }
 },
 "nbformat": 4,
 "nbformat_minor": 5
}
